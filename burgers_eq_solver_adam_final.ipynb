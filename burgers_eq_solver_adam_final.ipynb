{
 "cells": [
  {
   "cell_type": "code",
   "execution_count": 1,
   "metadata": {},
   "outputs": [
    {
     "name": "stderr",
     "output_type": "stream",
     "text": [
      "d:\\anaconda3\\envs\\tf\\lib\\_collections_abc.py:841: MatplotlibDeprecationWarning: Support for setting the 'text.latex.preamble' or 'pgf.preamble' rcParam to a list of strings is deprecated since 3.3 and will be removed two minor releases later; set it to a single string instead.\n",
      "  self[key] = other[key]\n"
     ]
    }
   ],
   "source": [
    "import tensorflow as tf\n",
    "import numpy as np\n",
    "import scipy.io\n",
    "import time\n",
    "from pyDOE import lhs\n",
    "from tensorflow.keras import layers\n",
    "from tensorflow import keras\n",
    "from tensorflow.keras.layers import Flatten, Dense\n",
    "from tensorflow.keras.layers import Input, Dense, Activation, Concatenate\n",
    "from tensorflow.keras.models import Model\n",
    "import matplotlib.pyplot as plt\n",
    "from plotting import newfig, savefig\n",
    "from mpl_toolkits.mplot3d import Axes3D\n",
    "import matplotlib.gridspec as gridspec\n",
    "from mpl_toolkits.axes_grid1 import make_axes_locatable\n",
    "from scipy.interpolate import griddata\n"
   ]
  },
  {
   "cell_type": "markdown",
   "metadata": {},
   "source": [
    "#### Data Preprocessing"
   ]
  },
  {
   "cell_type": "code",
   "execution_count": 2,
   "metadata": {},
   "outputs": [],
   "source": [
    "\n",
    "N_u = 100                    # number of data points\n",
    "N_f = 10000                  # number of points where the differential equation must be satisfied\n",
    "\n",
    "data = scipy.io.loadmat('burgers_equation.mat')                     # load Burgers equation dataset from matlab file\n",
    "t = data['t'].flatten()[:, None].astype('float32')                  # time discretization points\n",
    "x = data['x'].flatten()[:, None].astype('float32')                  # spatial(x) discretization points\n",
    "exact_sol = np.real(data['usol']).T.astype('float32')               # exact solution\n",
    "\n",
    "X, T = np.meshgrid(x, t)                                            # create a mesh from data coordinates x,t\n"
   ]
  },
  {
   "cell_type": "code",
   "execution_count": 3,
   "metadata": {},
   "outputs": [],
   "source": [
    "X_domain = np.hstack((X.flatten()[:, None], T.flatten()[:, None]))  # includes spatial in col 1 and then time coordinates col 2\n",
    "u_domain = exact_sol.flatten()[:, None]"
   ]
  },
  {
   "cell_type": "code",
   "execution_count": 4,
   "metadata": {},
   "outputs": [],
   "source": [
    "# Domain bounds\n",
    "lb = X_domain.min(0)\n",
    "ub = X_domain.max(0)"
   ]
  },
  {
   "cell_type": "code",
   "execution_count": 5,
   "metadata": {},
   "outputs": [],
   "source": [
    "xx1 = np.hstack((X[0:1, :].T, T[0:1, :].T)) # I.C.\n",
    "uu1 = exact_sol[0:1, :].T                   # u solution for the selected points at diff. conditions as mentioned\n",
    "xx2 = np.hstack((X[:, 0:1], T[:, 0:1]))  # L.B.C. i.e. at x = -1\n",
    "uu2 = exact_sol[:, 0:1]\n",
    "xx3 = np.hstack((X[:, -1:], T[:, -1:])) # R.B.C. i.e. at x = +1\n",
    "uu3 = exact_sol[:, -1:]\n",
    "\n",
    "X_u_train = np.vstack([xx1, xx2, xx3])      # Total # of final coordinates (x,t) for the training points\n",
    "X_f_train = lb + (ub - lb) * lhs(2, N_f)    # coordinates (x,t) of the points to satisfy the differential equation\n",
    "X_f_train = tf.convert_to_tensor(np.vstack((X_f_train, X_u_train)).astype('float32'))\n",
    "u_train = np.vstack([uu1, uu2, uu3])        # the solution of the training points\n",
    "\n",
    "# reducing our dataset by randomly selecting N_u points \n",
    "index = np.random.choice(X_u_train.shape[0], N_u, replace=False)\n",
    "X_u_train = tf.convert_to_tensor(X_u_train[index, :].astype('float32'))\n",
    "u_train = tf.convert_to_tensor(u_train[index, :].astype('float32'))\n",
    "\n",
    "# splittling spatial and time coordinates\n",
    "x_u = X_u_train[:, 0:1]  # column 0\n",
    "t_u = X_u_train[:, 1:2]  # column 1\n",
    "x_f = X_f_train[:, 0:1]  # column 0 \n",
    "t_f = X_f_train[:, 1:2]  # column 1 "
   ]
  },
  {
   "cell_type": "markdown",
   "metadata": {},
   "source": [
    "#### Creating Custom Model"
   ]
  },
  {
   "cell_type": "code",
   "execution_count": 6,
   "metadata": {},
   "outputs": [],
   "source": [
    "# custom model\n",
    "\n",
    "from tensorflow.keras.models import Model\n",
    "from tensorflow.keras.layers import Dense\n",
    "class CustomModel(Model):\n",
    "    \n",
    "    def __init__(self, **kwargs):\n",
    "        super(CustomModel, self).__init__(**kwargs)\n",
    "        self.dense1 = Dense(20, activation='tanh')\n",
    "        self.dense2 = Dense(20, activation='tanh')\n",
    "        self.dense3 = Dense(20, activation='tanh')\n",
    "        self.dense4 = Dense(20, activation='tanh')\n",
    "        self.dense5 = Dense(20, activation='tanh')\n",
    "        self.dense6 = Dense(20, activation='tanh')\n",
    "        self.dense7 = Dense(20, activation='tanh')\n",
    "        self.dense8 = Dense(20, activation='tanh')\n",
    "        self.dense9 = Dense(1, activation=None)\n",
    "        \n",
    "    def call(self, x, t):\n",
    "        z = self.dense1(tf.concat([x, t], 1))\n",
    "        z = self.dense2(z)\n",
    "        z = self.dense3(z)\n",
    "        z = self.dense4(z)\n",
    "        z = self.dense5(z)\n",
    "        z = self.dense6(z)\n",
    "        z = self.dense7(z)\n",
    "        z = self.dense8(z)\n",
    "        return self.dense9(z)\n",
    "    \n",
    "model = CustomModel()\n"
   ]
  },
  {
   "cell_type": "markdown",
   "metadata": {},
   "source": [
    "#### Custom Loss Fuction\n",
    "This includes MeanSquareError in the u(t,x) and residual function value(f)"
   ]
  },
  {
   "cell_type": "code",
   "execution_count": 7,
   "metadata": {},
   "outputs": [],
   "source": [
    "def loss(model, u_train, x_u, t_u, x_f, t_f, training):\n",
    "    u_pred = model(x_u,t_u, training=training)\n",
    "    f_pred = residual_loss_fn(model, x_f, t_f)  # f_pred is the residual loss\n",
    "    return tf.reduce_sum(tf.square(u_train - u_pred)) / u_pred.shape[0] + \\\n",
    "             tf.reduce_sum(tf.square(f_pred)) / f_pred.shape[0]"
   ]
  },
  {
   "cell_type": "code",
   "execution_count": 8,
   "metadata": {},
   "outputs": [],
   "source": [
    "# create a custom loss function\n",
    "def residual_loss_fn(model, x, t):\n",
    "    with tf.GradientTape() as gtp1:\n",
    "        gtp1.watch(x)\n",
    "        with tf.GradientTape(persistent=True) as gtp2:\n",
    "            gtp2.watch(x)\n",
    "            gtp2.watch(t)\n",
    "            u = model(x, t)\n",
    "        du_dt = gtp2.gradient(u, t)\n",
    "        du_dx = gtp2.gradient(u, x)\n",
    "    du2_dx2 = gtp1.gradient(du_dx, x)\n",
    "    coefficient = 0.01 / np.pi\n",
    "    f = du_dt + u * du_dx - coefficient * du2_dx2   # burgers equation's residual\n",
    "    del gtp2\n",
    "    return f\n"
   ]
  },
  {
   "cell_type": "markdown",
   "metadata": {},
   "source": [
    "#### Custom Training \n",
    "Adam optimizer is used for training. Number of epochs required for training can be changed for optimization."
   ]
  },
  {
   "cell_type": "code",
   "execution_count": 9,
   "metadata": {},
   "outputs": [
    {
     "name": "stdout",
     "output_type": "stream",
     "text": [
      "Epoch 0000: Loss: 0.247093\n",
      "Epoch 0050: Loss: 0.135473\n",
      "Epoch 0100: Loss: 0.102100\n",
      "Epoch 0150: Loss: 0.090075\n",
      "Epoch 0200: Loss: 0.081338\n",
      "Epoch 0250: Loss: 0.072219\n",
      "Epoch 0300: Loss: 0.070140\n",
      "Epoch 0350: Loss: 0.063465\n",
      "Epoch 0400: Loss: 0.059499\n",
      "Epoch 0450: Loss: 0.055483\n",
      "Epoch 0500: Loss: 0.052086\n",
      "Epoch 0550: Loss: 0.049619\n",
      "Epoch 0600: Loss: 0.046986\n",
      "Epoch 0650: Loss: 0.044810\n",
      "Epoch 0700: Loss: 0.043061\n",
      "Epoch 0750: Loss: 0.044559\n",
      "Epoch 0800: Loss: 0.040000\n",
      "Epoch 0850: Loss: 0.043513\n",
      "Epoch 0900: Loss: 0.036803\n",
      "Epoch 0950: Loss: 0.035990\n",
      "Epoch 1000: Loss: 0.038903\n",
      "Epoch 1050: Loss: 0.033233\n",
      "Epoch 1100: Loss: 0.032488\n",
      "Epoch 1150: Loss: 0.033157\n",
      "Epoch 1200: Loss: 0.028821\n",
      "Epoch 1250: Loss: 0.036888\n",
      "Epoch 1300: Loss: 0.027659\n",
      "Epoch 1350: Loss: 0.025263\n",
      "Epoch 1400: Loss: 0.023166\n",
      "Epoch 1450: Loss: 0.028849\n",
      "Epoch 1500: Loss: 0.021431\n",
      "Epoch 1550: Loss: 0.019204\n",
      "Epoch 1600: Loss: 0.018465\n",
      "Epoch 1650: Loss: 0.015552\n",
      "Epoch 1700: Loss: 0.013469\n",
      "Epoch 1750: Loss: 0.035622\n",
      "Epoch 1800: Loss: 0.027553\n",
      "Epoch 1850: Loss: 0.015342\n",
      "Epoch 1900: Loss: 0.012665\n",
      "Epoch 1950: Loss: 0.011510\n",
      "Epoch 2000: Loss: 0.010685\n",
      "Epoch 2050: Loss: 0.010021\n",
      "Epoch 2100: Loss: 0.009462\n",
      "Epoch 2150: Loss: 0.008972\n",
      "Epoch 2200: Loss: 0.008526\n",
      "Epoch 2250: Loss: 0.008112\n",
      "Epoch 2300: Loss: 0.007722\n",
      "Epoch 2350: Loss: 0.007350\n",
      "Epoch 2400: Loss: 0.006996\n",
      "Epoch 2450: Loss: 0.006657\n",
      "Epoch 2500: Loss: 0.006333\n",
      "Epoch 2550: Loss: 0.006764\n",
      "Epoch 2600: Loss: 0.005639\n",
      "Epoch 2650: Loss: 0.005366\n",
      "Epoch 2700: Loss: 0.005111\n",
      "Epoch 2750: Loss: 0.004869\n",
      "Epoch 2800: Loss: 0.005773\n",
      "Epoch 2850: Loss: 0.004644\n",
      "Epoch 2900: Loss: 0.004410\n",
      "Epoch 2950: Loss: 0.004217\n",
      "Epoch 3000: Loss: 0.004039\n",
      "Epoch 3050: Loss: 0.003870\n",
      "Epoch 3100: Loss: 0.003710\n",
      "Epoch 3150: Loss: 0.009757\n",
      "Epoch 3200: Loss: 0.003618\n",
      "Epoch 3250: Loss: 0.003402\n",
      "Epoch 3300: Loss: 0.003262\n",
      "Epoch 3350: Loss: 0.003135\n",
      "Epoch 3400: Loss: 0.003015\n",
      "Epoch 3450: Loss: 0.002899\n",
      "Epoch 3500: Loss: 0.002795\n",
      "Epoch 3550: Loss: 0.005513\n",
      "Epoch 3600: Loss: 0.002741\n",
      "Epoch 3650: Loss: 0.002595\n",
      "Epoch 3700: Loss: 0.002491\n",
      "Epoch 3750: Loss: 0.002386\n",
      "Epoch 3800: Loss: 0.002272\n",
      "Epoch 3850: Loss: 0.002182\n",
      "Epoch 3900: Loss: 0.010545\n",
      "Epoch 3950: Loss: 0.002099\n",
      "Epoch 4000: Loss: 0.001965\n",
      "Epoch 4050: Loss: 0.002018\n",
      "Epoch 4100: Loss: 0.001890\n",
      "Epoch 4150: Loss: 0.002045\n",
      "Epoch 4200: Loss: 0.002251\n",
      "Epoch 4250: Loss: 0.001651\n",
      "Epoch 4300: Loss: 0.002091\n",
      "Epoch 4350: Loss: 0.001582\n",
      "Epoch 4400: Loss: 0.001575\n",
      "Epoch 4450: Loss: 0.001565\n",
      "Epoch 4500: Loss: 0.004094\n",
      "Epoch 4550: Loss: 0.001392\n",
      "Epoch 4600: Loss: 0.001376\n",
      "Epoch 4650: Loss: 0.001319\n",
      "Epoch 4700: Loss: 0.001596\n",
      "Epoch 4750: Loss: 0.002615\n",
      "Epoch 4800: Loss: 0.001164\n",
      "Epoch 4850: Loss: 0.001383\n",
      "Epoch 4900: Loss: 0.002894\n",
      "Epoch 4950: Loss: 0.001353\n",
      "Epoch 5000: Loss: 0.002101\n",
      "Epoch 5050: Loss: 0.000974\n",
      "Epoch 5100: Loss: 0.003186\n",
      "Epoch 5150: Loss: 0.000942\n",
      "Epoch 5200: Loss: 0.000882\n",
      "Epoch 5250: Loss: 0.000851\n",
      "Epoch 5300: Loss: 0.001339\n",
      "Epoch 5350: Loss: 0.000837\n",
      "Epoch 5400: Loss: 0.000791\n",
      "Epoch 5450: Loss: 0.000765\n",
      "Epoch 5500: Loss: 0.000742\n",
      "Epoch 5550: Loss: 0.001408\n",
      "Epoch 5600: Loss: 0.000730\n",
      "Epoch 5650: Loss: 0.000692\n",
      "Epoch 5700: Loss: 0.000671\n",
      "Epoch 5750: Loss: 0.004351\n",
      "Epoch 5800: Loss: 0.000678\n",
      "Epoch 5850: Loss: 0.000628\n",
      "Epoch 5900: Loss: 0.000611\n",
      "Epoch 5950: Loss: 0.002598\n",
      "Training time: 573.9832653999329\n",
      "Error u: 4.545473e-02\n"
     ]
    }
   ],
   "source": [
    "\n",
    "def grad(model, u_train, x_u, t_u, x_f, t_f):\n",
    "    with tf.GradientTape() as tape:\n",
    "        loss_value = loss(model, u_train, x_u, t_u, x_f, t_f, training = True)\n",
    "    return loss_value, tape.gradient(loss_value, model.trainable_variables)\n",
    "\n",
    "def predict(model, X_test):\n",
    "    X_test = tf.convert_to_tensor(X_test) # converting to tensor for use as tensor\n",
    "    u_test = model(X_test[:, 0:1], X_test[:, 1:2])\n",
    "    f_test = residual_loss_fn(model, X_test[:, 0:1], X_test[:, 1:2])\n",
    "    return u_test, f_test\n",
    "\n",
    "# selecting the optimizer\n",
    "optimizer = tf.keras.optimizers.Adam(learning_rate=0.001)\n",
    "\n",
    "############Custom Training################ \n",
    "\n",
    "start_time = time.time()\n",
    "train_loss_results = []\n",
    "model = CustomModel()\n",
    "\n",
    "num_epochs = 6000 # Set number of epochs required for training\n",
    "\n",
    "for epoch in range(num_epochs):\n",
    "    epoch_loss_avg = tf.keras.metrics.Mean()\n",
    "\n",
    "# Optimize the model\n",
    "    loss_value, grads = grad(model, u_train, x_u, t_u, x_f, t_f)\n",
    "    optimizer.apply_gradients(zip(grads, model.trainable_variables))\n",
    "\n",
    "# Track progress\n",
    "    epoch_loss_avg.update_state(loss_value)  # Add current batch loss\n",
    "# Compare predicted label to actual label\n",
    "# training=True is needed only if there are layers with different\n",
    "# behavior during training versus inference (e.g. Dropout).\n",
    "# End epoch\n",
    "    train_loss_results.append(epoch_loss_avg.result())\n",
    "\n",
    "    if epoch % 50 == 0:\n",
    "        print(\"Epoch {:04d}: Loss: {:.6f}\".format(epoch,epoch_loss_avg.result()))\n",
    "elapsed_time = time.time() - start_time\n",
    "\n",
    "u_pred, f_pred = predict(model, X_domain) # predictions for all points in the domain\n",
    "error_u = np.linalg.norm(u_domain - u_pred) / np.linalg.norm(u_domain)\n",
    "print('Training time:', elapsed_time)\n",
    "print('Error u: %e' % (error_u))\n",
    "\n"
   ]
  },
  {
   "cell_type": "markdown",
   "metadata": {},
   "source": [
    "#### Plotting the results"
   ]
  },
  {
   "cell_type": "code",
   "execution_count": 10,
   "metadata": {},
   "outputs": [],
   "source": [
    "u_pred = u_pred.numpy() # Recovering as python object\n",
    "U_pred = griddata(X_domain, u_pred.flatten(), (X,T), method = 'cubic')\n",
    "Error  = np.abs( exact_sol - U_pred)"
   ]
  },
  {
   "cell_type": "code",
   "execution_count": 11,
   "metadata": {},
   "outputs": [
    {
     "data": {
      "text/plain": [
       "Text(0.5, 1.0, '$t = 0.75$')"
      ]
     },
     "execution_count": 11,
     "metadata": {},
     "output_type": "execute_result"
    },
    {
     "name": "stderr",
     "output_type": "stream",
     "text": [
      "findfont: Font family ['serif'] not found. Falling back to DejaVu Sans.\n"
     ]
    },
    {
     "data": {
      "image/png": "[encoded data removed]",
      "text/plain": [
       "<Figure size 388.543x264.146 with 5 Axes>"
      ]
     },
     "metadata": {
      "needs_background": "light"
     },
     "output_type": "display_data"
    }
   ],
   "source": [
    "############################# Plotting ###############################\n",
    "\n",
    "fig, ax = newfig(1.0, 1.1)\n",
    "ax.axis('off')\n",
    "\n",
    "##### Row 0: u(t,x) #####    \n",
    "gs0 = gridspec.GridSpec(1, 2)\n",
    "gs0.update(top=1-0.06, bottom=1-1/3, left=0.15, right=0.85, wspace=0)\n",
    "ax = plt.subplot(gs0[:, :])\n",
    "\n",
    "h = ax.imshow(U_pred.T, interpolation='nearest', cmap='rainbow', \n",
    "              extent=[t.min(), t.max(), x.min(), x.max()], \n",
    "              origin='lower', aspect='auto')\n",
    "divider = make_axes_locatable(ax)\n",
    "cax = divider.append_axes(\"right\", size=\"5%\", pad=0.05)\n",
    "fig.colorbar(h, cax=cax)\n",
    "\n",
    "ax.plot(X_u_train[:,1], X_u_train[:,0], 'kx', label = 'Data (%d points)' % (u_train.shape[0]), markersize = 4, clip_on = False)\n",
    "\n",
    "line = np.linspace(x.min(), x.max(), 2)[:,None]\n",
    "ax.plot(t[25]*np.ones((2,1)), line, 'w-', linewidth = 1)\n",
    "ax.plot(t[50]*np.ones((2,1)), line, 'w-', linewidth = 1)\n",
    "ax.plot(t[75]*np.ones((2,1)), line, 'w-', linewidth = 1)    \n",
    "\n",
    "ax.set_xlabel('$t$')\n",
    "ax.set_ylabel('$x$')\n",
    "ax.legend(frameon=False, loc = 'best')\n",
    "ax.set_title('$u(t,x)$', fontsize = 10)\n",
    "\n",
    "#### Row 1: u(t,x) slices #####    \n",
    "gs1 = gridspec.GridSpec(1, 3)\n",
    "gs1.update(top=1-1/3, bottom=0, left=0.1, right=0.9, wspace=0.5)\n",
    "\n",
    "ax = plt.subplot(gs1[0, 0])\n",
    "ax.plot(x,exact_sol[25,:], 'b-', linewidth = 2, label = 'Exact')       \n",
    "ax.plot(x,U_pred[25,:], 'r--', linewidth = 2, label = 'Prediction')\n",
    "ax.set_xlabel('$x$')\n",
    "ax.set_ylabel('$u(t,x)$')    \n",
    "ax.set_title('$t = 0.25$', fontsize = 10)\n",
    "ax.axis('square')\n",
    "ax.set_xlim([-1.1,1.1])\n",
    "ax.set_ylim([-1.1,1.1])\n",
    "\n",
    "ax = plt.subplot(gs1[0, 1])\n",
    "ax.plot(x,exact_sol[50,:], 'b-', linewidth = 2, label = 'Exact')       \n",
    "ax.plot(x,U_pred[50,:], 'r--', linewidth = 2, label = 'Prediction')\n",
    "ax.set_xlabel('$x$')\n",
    "ax.set_ylabel('$u(t,x)$')\n",
    "ax.axis('square')\n",
    "ax.set_xlim([-1.1,1.1])\n",
    "ax.set_ylim([-1.1,1.1])\n",
    "ax.set_title('$t = 0.50$', fontsize = 10)\n",
    "ax.legend(loc='upper center', bbox_to_anchor=(0.5, -0.35), ncol=5, frameon=False)\n",
    "\n",
    "ax = plt.subplot(gs1[0, 2])\n",
    "ax.plot(x,exact_sol[75,:], 'b-', linewidth = 2, label = 'Exact')       \n",
    "ax.plot(x,U_pred[75,:], 'r--', linewidth = 2, label = 'Prediction')\n",
    "ax.set_xlabel('$x$')\n",
    "ax.set_ylabel('$u(t,x)$')\n",
    "ax.axis('square')\n",
    "ax.set_xlim([-1.1,1.1])\n",
    "ax.set_ylim([-1.1,1.1])    \n",
    "ax.set_title('$t = 0.75$', fontsize = 10)\n",
    "  "
   ]
  },
  {
   "cell_type": "code",
   "execution_count": null,
   "metadata": {},
   "outputs": [],
   "source": []
  }
 ],
 "metadata": {
  "kernelspec": {
   "display_name": "Python 3",
   "language": "python",
   "name": "python3"
  },
  "language_info": {
   "codemirror_mode": {
    "name": "ipython",
    "version": 3
   },
   "file_extension": ".py",
   "mimetype": "text/x-python",
   "name": "python",
   "nbconvert_exporter": "python",
   "pygments_lexer": "ipython3",
   "version": "3.7.9"
  }
 },
 "nbformat": 4,
 "nbformat_minor": 4
}
